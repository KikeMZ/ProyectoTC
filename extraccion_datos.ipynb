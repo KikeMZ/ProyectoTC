{
 "cells": [
  {
   "cell_type": "code",
   "execution_count": 1,
   "metadata": {},
   "outputs": [],
   "source": [
    "import pdfplumber\n",
    "import re\n",
    "import pandas as pd\n",
    "from openpyxl import Workbook\n",
    "from openpyxl.utils.dataframe import dataframe_to_rows"
   ]
  },
  {
   "cell_type": "code",
   "execution_count": 2,
   "metadata": {},
   "outputs": [],
   "source": [
    "def extract_table_and_emails(pdf_path):\n",
    "    data = []\n",
    "    email_links = []\n",
    "    \n",
    "    with pdfplumber.open(pdf_path) as pdf:\n",
    "        for page in pdf.pages:\n",
    "            text = page.extract_text()\n",
    "            \n",
    "            if text:\n",
    "                lines = text.split(\"\\n\")\n",
    "                for line in lines:\n",
    "                    match = re.match(r\"(\\d+)\\s+([A-ZÁÉÍÓÚÑ,.'\\s-]+)\\s+(\\d{9})\\s+(\\*\\*Inscrito por Web\\*\\*)\\s+(Licenciatura|Maestría|Doctorado)\\s+(\\d+\\.\\d+)(.*)?\", line)\n",
    "                    \n",
    "                    if match:\n",
    "                        record = list(match.groups())\n",
    "                        if len(record) == 6:\n",
    "                            record.append(\"No disponible\")\n",
    "                        data.append(record)\n",
    "            \n",
    "            # Extraer correos electrónicos\n",
    "            if page.annots:\n",
    "                for annot in page.annots:\n",
    "                    uri = annot.get(\"uri\", \"\")\n",
    "                    if uri.startswith(\"mailto:\"):\n",
    "                        email_links.append(uri.replace(\"mailto:\", \"\"))\n",
    "    \n",
    "    if data:\n",
    "        df = pd.DataFrame(data, columns=[\"Número de Registro\", \"Nombre de Alumno\", \"ID\", \"Status de Inscripción\",\n",
    "        \"Nivel\", \"Créditos\", \"Detalle de Calificaciones\"])\n",
    "    else:\n",
    "        print(\"No se encontraron datos en la tabla. Verifica la estructura del PDF.\")\n",
    "        return None\n",
    "    \n",
    "    df.dropna(how=\"all\", inplace=True)\n",
    "    df.reset_index(drop=True, inplace=True)\n",
    "    \n",
    "    unique_emails = list(dict.fromkeys(email_links))\n",
    "    \n",
    "    if len(unique_emails) >= len(df):\n",
    "        df[\"Correo Electrónico\"] = unique_emails[: len(df)]\n",
    "    else:\n",
    "        df[\"Correo Electrónico\"] = [\"No disponible\"] * len(df)\n",
    "        for i in range(min(len(df), len(unique_emails))):\n",
    "            df.at[i, \"Correo Electrónico\"] = unique_emails[i]\n",
    "    \n",
    "    # Renombrar la columna \"Correo Electrónico\" a \"Correo\"\n",
    "    df.rename(columns={\"Correo Electrónico\": \"Correo\"}, inplace=True)\n",
    "\n",
    "    \n",
    "    return df"
   ]
  },
  {
   "cell_type": "code",
   "execution_count": 3,
   "metadata": {},
   "outputs": [],
   "source": [
    "def save_to_excel(df, output_file):\n",
    "    if df is not None:\n",
    "        wb = Workbook()\n",
    "        ws = wb.active\n",
    "        ws.title = \"Lista de Estudiantes\"\n",
    "        \n",
    "        # Escribir encabezados una sola vez\n",
    "        ws.append(df.columns.tolist())\n",
    "        \n",
    "        # Escribir datos fila por fila\n",
    "        for row in dataframe_to_rows(df, index=False, header=False):\n",
    "            ws.append(row)\n",
    "        \n",
    "        # Guardar el archivo Excel\n",
    "        wb.save(output_file)\n",
    "        print(f\"Archivo Excel generado correctamente: {output_file}\")\n",
    "    else:\n",
    "        print(\"No se generó el archivo Excel debido a errores en la extracción de datos.\")\n"
   ]
  },
  {
   "cell_type": "code",
   "execution_count": 4,
   "metadata": {},
   "outputs": [],
   "source": [
    "# Ruta del archivo PDF\n",
    "pdf_path = \"Lista_Trabajo_Colaborativo.pdf\"\n",
    "output_excel = \"resultado_lista.xlsx\"\n"
   ]
  },
  {
   "cell_type": "code",
   "execution_count": 5,
   "metadata": {},
   "outputs": [],
   "source": [
    "# Ejecutar la extracción\n",
    "df_result = extract_table_and_emails(pdf_path)\n"
   ]
  },
  {
   "cell_type": "code",
   "execution_count": 6,
   "metadata": {},
   "outputs": [
    {
     "name": "stdout",
     "output_type": "stream",
     "text": [
      "Archivo Excel generado correctamente: resultado_lista.xlsx\n"
     ]
    }
   ],
   "source": [
    "# Guardar el resultado en un archivo Excel con formato de tabla\n",
    "save_to_excel(df_result, output_excel)\n"
   ]
  }
 ],
 "metadata": {
  "kernelspec": {
   "display_name": "env",
   "language": "python",
   "name": "python3"
  },
  "language_info": {
   "codemirror_mode": {
    "name": "ipython",
    "version": 3
   },
   "file_extension": ".py",
   "mimetype": "text/x-python",
   "name": "python",
   "nbconvert_exporter": "python",
   "pygments_lexer": "ipython3",
   "version": "3.12.9"
  }
 },
 "nbformat": 4,
 "nbformat_minor": 2
}
